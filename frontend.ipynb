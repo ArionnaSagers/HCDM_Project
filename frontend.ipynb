{
 "cells": [
  {
   "cell_type": "code",
   "execution_count": null,
   "id": "8768f984",
   "metadata": {},
   "outputs": [],
   "source": [
    "%pip install -q ipywidgets"
   ]
  },
  {
   "cell_type": "code",
   "execution_count": null,
   "id": "1324701b-3dc3-485b-ae36-34e302e03e98",
   "metadata": {},
   "outputs": [],
   "source": [
    "import json\n",
    "import random\n",
    "import ipywidgets as widgets\n",
    "from IPython.display import display, HTML, clear_output"
   ]
  },
  {
   "cell_type": "code",
   "execution_count": 21,
   "id": "aa52f2ad",
   "metadata": {},
   "outputs": [
    {
     "data": {
      "application/vnd.jupyter.widget-view+json": {
       "model_id": "1ae94eb6f46449dcbcd0b92e73920400",
       "version_major": 2,
       "version_minor": 0
      },
      "text/plain": [
       "VBox(children=(VBox(children=(HTML(value='<h1>Recreation of DiversiNews</h1>'), HTML(value='<h3>Paper: <a href…"
      ]
     },
     "metadata": {},
     "output_type": "display_data"
    }
   ],
   "source": [
    "articles_file = \"DiversiNews/NewsSpectrum/articles.json\"\n",
    "with open(articles_file, \"r\", encoding=\"utf-8\") as f:\n",
    "    articles = json.load(f)\n",
    "    \n",
    "title = widgets.HTML(value=\"<h1>Recreation of DiversiNews</h1>\")\n",
    "subtitle = widgets.HTML(value='<h3>Paper: <a href=\"https://dl.acm.org/doi/abs/10.14778/3685800.3685854\" target=\"_blank\">Link to Paper</a></h3>')\n",
    "\n",
    "heading = widgets.VBox([title, subtitle])\n",
    "\n",
    "for article in articles:\n",
    "    if \"sentiment\" not in article:\n",
    "        article[\"sentiment\"] = random.uniform(-1, 1)\n",
    "\n",
    "label_widget = widgets.HTML(value=\"<h4>Prioritize news with sentiment that is:</h4>\")\n",
    "\n",
    "def get_sentiment_descriptor(score):\n",
    "    if score < -0.5:\n",
    "        return \"very negative\"\n",
    "    elif score < 0:\n",
    "        return \"negative\"\n",
    "    elif score < 0.5:\n",
    "        return \"positive\"\n",
    "    else:\n",
    "        return \"very positive\"\n",
    "\n",
    "sentiment_slider = widgets.FloatSlider(\n",
    "    value=0.0,\n",
    "    min=-1.0,\n",
    "    max=1.0,\n",
    "    step=0.1,\n",
    "    continuous_update=False,\n",
    "    style={'description_width': '80px'},\n",
    "    layout=widgets.Layout(width='400px')\n",
    ")\n",
    "\n",
    "left_label = widgets.Label(value=\"negative\", layout=widgets.Layout(width='60px'))\n",
    "right_label = widgets.Label(value=\"positive\", layout=widgets.Layout(width='60px'))\n",
    "\n",
    "slider_with_labels = widgets.HBox([left_label, sentiment_slider, right_label])\n",
    "\n",
    "spacer = widgets.HTML(value=\"<div style='margin-top: 20px;'></div>\")\n",
    "\n",
    "# sentiment_descriptor_label = widgets.Label(value=get_sentiment_descriptor(sentiment_slider.value))\n",
    "widgets.HTML(\n",
    "    value=f\"<b>{get_sentiment_descriptor(sentiment_slider.value)}</b>\"\n",
    ")\n",
    "\n",
    "articles_output = widgets.Output()\n",
    "\n",
    "def update_articles(change):\n",
    "    articles_output.clear_output()\n",
    "    \n",
    "    current_sentiment = sentiment_slider.value\n",
    "    \n",
    "    # sentiment_descriptor_label.value = get_sentiment_descriptor(current_sentiment)\n",
    "    \n",
    "    sorted_articles = sorted(articles, key=lambda a: abs(a[\"sentiment\"] - current_sentiment))\n",
    "    top_articles = sorted_articles[:10]\n",
    "    \n",
    "    with articles_output:\n",
    "        for article in top_articles:\n",
    "            display(HTML(\n",
    "                f\"<div style='padding-bottom:20px;'>\"\n",
    "                f\"  <div><strong>{article['title']}</strong></div>\"\n",
    "                f\"  <div><a href='{article['_id']}' target='_blank'>{article['_id']}</a></div>\"\n",
    "                f\"  <div>{article['excerpt']}</div>\"\n",
    "                f\"</div>\"\n",
    "            ))\n",
    "\n",
    "sentiment_slider.observe(update_articles, names='value')\n",
    "\n",
    "update_articles({'new': sentiment_slider.value})\n",
    "\n",
    "ui = widgets.VBox([heading, \n",
    "                   label_widget, \n",
    "                   slider_with_labels,\n",
    "                   spacer,\n",
    "                #    sentiment_descriptor_label, \n",
    "                   articles_output])\n",
    "display(ui)"
   ]
  }
 ],
 "metadata": {
  "kernelspec": {
   "display_name": "base",
   "language": "python",
   "name": "python3"
  },
  "language_info": {
   "codemirror_mode": {
    "name": "ipython",
    "version": 3
   },
   "file_extension": ".py",
   "mimetype": "text/x-python",
   "name": "python",
   "nbconvert_exporter": "python",
   "pygments_lexer": "ipython3",
   "version": "3.12.3"
  }
 },
 "nbformat": 4,
 "nbformat_minor": 5
}
